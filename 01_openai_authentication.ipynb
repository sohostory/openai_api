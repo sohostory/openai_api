{
 "cells": [
  {
   "cell_type": "code",
   "execution_count": 4,
   "id": "943a78a8-ceb8-48f3-95ba-57ab639fcf5a",
   "metadata": {},
   "outputs": [],
   "source": [
    "# !pip3 install -q openai\n",
    "import openai\n",
    "import os"
   ]
  },
  {
   "cell_type": "code",
   "execution_count": 8,
   "id": "c3b5f03f-220e-467c-a11b-4a9773215891",
   "metadata": {},
   "outputs": [
    {
     "name": "stdin",
     "output_type": "stream",
     "text": [
      "API Key:  ········\n"
     ]
    }
   ],
   "source": [
    "# os.environ['OPENAI_API_KEY'] = ''\n",
    "# openai.api_key = os.getenv('OPENAI_API_KEY')\n",
    "\n",
    "# import getpass\n",
    "# key = getpass.getpass(\"API Key: \")\n",
    "# openai.api_key = key\n",
    "\n",
    "openai.api_key = open('key.txt').read().strip('\\')"
   ]
  },
  {
   "cell_type": "code",
   "execution_count": null,
   "id": "3bbaa0ad-3cc2-425e-930f-3a3bbd98d268",
   "metadata": {},
   "outputs": [],
   "source": []
  }
 ],
 "metadata": {
  "kernelspec": {
   "display_name": "Python 3 (ipykernel)",
   "language": "python",
   "name": "python3"
  },
  "language_info": {
   "codemirror_mode": {
    "name": "ipython",
    "version": 3
   },
   "file_extension": ".py",
   "mimetype": "text/x-python",
   "name": "python",
   "nbconvert_exporter": "python",
   "pygments_lexer": "ipython3",
   "version": "3.11.3"
  }
 },
 "nbformat": 4,
 "nbformat_minor": 5
}
